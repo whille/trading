{
 "cells": [
  {
   "cell_type": "code",
   "execution_count": 1,
   "metadata": {
    "collapsed": true
   },
   "outputs": [],
   "source": [
    "vip_groups = 'k2 k6 k158 k21 k135 k33 k143'.split()\n",
    "#live_group = 'sxx'\n",
    "#others"
   ]
  },
  {
   "cell_type": "markdown",
   "metadata": {},
   "source": [
    "### domain(group) type: \n",
    "* vip\n",
    "* special\n",
    "* live('sxx', un dispatchable)\n",
    "* small(others)\n",
    "\n",
    "basic data:\n",
    "g-u-e(group-up-edge): bw"
   ]
  },
  {
   "cell_type": "markdown",
   "metadata": {},
   "source": [
    "### TBD:\n",
    "group-domain 对应关系怎么下发？\n",
    "node-up可用列表\n",
    "\n",
    "### 数据源：\n",
    "\n"
   ]
  }
 ],
 "metadata": {
  "kernelspec": {
   "display_name": "Python 2",
   "language": "python",
   "name": "python2"
  },
  "language_info": {
   "codemirror_mode": {
    "name": "ipython",
    "version": 2
   },
   "file_extension": ".py",
   "mimetype": "text/x-python",
   "name": "python",
   "nbconvert_exporter": "python",
   "pygments_lexer": "ipython2",
   "version": "2.7.13"
  }
 },
 "nbformat": 4,
 "nbformat_minor": 2
}
